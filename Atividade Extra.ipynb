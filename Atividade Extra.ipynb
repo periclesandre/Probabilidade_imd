{
 "cells": [
  {
   "cell_type": "markdown",
   "metadata": {},
   "source": [
    "<h1> Resultado da Mega-Sena de 1996 a 2018 </h1>\n",
    "<br>\n",
    "Esta apresentação foi criada por <b> Péricles Andrade </b>. Aqui iremos realizar analises sobre os dados contidos neste Dataset."
   ]
  },
  {
   "cell_type": "markdown",
   "metadata": {},
   "source": [
    "<br>A Mega-Sena tem sido a maior modalidade lotérica do Brasil, sendo uma entre as dez modalidades atuais das loterias da Caixa (Caixa Econômica Federal), com sorteios ordinários duas vezes por semana."
   ]
  },
  {
   "cell_type": "code",
   "execution_count": 1,
   "metadata": {
    "scrolled": false
   },
   "outputs": [
    {
     "name": "stdout",
     "output_type": "stream",
     "text": [
      "['MegaSena']\n"
     ]
    },
    {
     "data": {
      "text/html": [
       "<div>\n",
       "<style scoped>\n",
       "    .dataframe tbody tr th:only-of-type {\n",
       "        vertical-align: middle;\n",
       "    }\n",
       "\n",
       "    .dataframe tbody tr th {\n",
       "        vertical-align: top;\n",
       "    }\n",
       "\n",
       "    .dataframe thead th {\n",
       "        text-align: right;\n",
       "    }\n",
       "</style>\n",
       "<table border=\"1\" class=\"dataframe\">\n",
       "  <thead>\n",
       "    <tr style=\"text-align: right;\">\n",
       "      <th></th>\n",
       "      <th>Concurso</th>\n",
       "      <th>Data Sorteio</th>\n",
       "      <th>Dezena1</th>\n",
       "      <th>Dezena2</th>\n",
       "      <th>Dezena3</th>\n",
       "      <th>Dezena4</th>\n",
       "      <th>Dezena5</th>\n",
       "      <th>Dezena6</th>\n",
       "      <th>Arrecadacao_Total</th>\n",
       "      <th>Ganhadores_Sena</th>\n",
       "      <th>Rateio_Sena</th>\n",
       "      <th>Ganhadores_Quina</th>\n",
       "      <th>Rateio_Quina</th>\n",
       "      <th>Ganhadores_Quadra</th>\n",
       "      <th>Rateio_Quadra</th>\n",
       "      <th>Acumulado</th>\n",
       "      <th>Valor_Acumulado</th>\n",
       "      <th>Estimativa_Prêmio</th>\n",
       "    </tr>\n",
       "  </thead>\n",
       "  <tbody>\n",
       "    <tr>\n",
       "      <th>0</th>\n",
       "      <td>1</td>\n",
       "      <td>1996-03-11</td>\n",
       "      <td>41</td>\n",
       "      <td>5</td>\n",
       "      <td>4</td>\n",
       "      <td>52</td>\n",
       "      <td>30</td>\n",
       "      <td>33</td>\n",
       "      <td>0.0</td>\n",
       "      <td>0</td>\n",
       "      <td>0.00</td>\n",
       "      <td>17</td>\n",
       "      <td>39158.92</td>\n",
       "      <td>2016</td>\n",
       "      <td>330.21</td>\n",
       "      <td>SIM</td>\n",
       "      <td>1714650.23</td>\n",
       "      <td>0</td>\n",
       "    </tr>\n",
       "    <tr>\n",
       "      <th>1</th>\n",
       "      <td>2</td>\n",
       "      <td>1996-03-18</td>\n",
       "      <td>9</td>\n",
       "      <td>39</td>\n",
       "      <td>37</td>\n",
       "      <td>49</td>\n",
       "      <td>43</td>\n",
       "      <td>41</td>\n",
       "      <td>0.0</td>\n",
       "      <td>1</td>\n",
       "      <td>2307162.23</td>\n",
       "      <td>65</td>\n",
       "      <td>14424.02</td>\n",
       "      <td>4488</td>\n",
       "      <td>208.91</td>\n",
       "      <td>NÃO</td>\n",
       "      <td>0.00</td>\n",
       "      <td>0</td>\n",
       "    </tr>\n",
       "    <tr>\n",
       "      <th>2</th>\n",
       "      <td>3</td>\n",
       "      <td>1996-03-25</td>\n",
       "      <td>36</td>\n",
       "      <td>30</td>\n",
       "      <td>10</td>\n",
       "      <td>11</td>\n",
       "      <td>29</td>\n",
       "      <td>47</td>\n",
       "      <td>0.0</td>\n",
       "      <td>2</td>\n",
       "      <td>391192.51</td>\n",
       "      <td>62</td>\n",
       "      <td>10515.93</td>\n",
       "      <td>4261</td>\n",
       "      <td>153.01</td>\n",
       "      <td>NÃO</td>\n",
       "      <td>0.00</td>\n",
       "      <td>0</td>\n",
       "    </tr>\n",
       "    <tr>\n",
       "      <th>3</th>\n",
       "      <td>4</td>\n",
       "      <td>1996-04-01</td>\n",
       "      <td>6</td>\n",
       "      <td>59</td>\n",
       "      <td>42</td>\n",
       "      <td>27</td>\n",
       "      <td>1</td>\n",
       "      <td>5</td>\n",
       "      <td>0.0</td>\n",
       "      <td>0</td>\n",
       "      <td>0.00</td>\n",
       "      <td>39</td>\n",
       "      <td>15322.24</td>\n",
       "      <td>3311</td>\n",
       "      <td>180.48</td>\n",
       "      <td>SIM</td>\n",
       "      <td>717080.75</td>\n",
       "      <td>0</td>\n",
       "    </tr>\n",
       "    <tr>\n",
       "      <th>4</th>\n",
       "      <td>5</td>\n",
       "      <td>1996-04-08</td>\n",
       "      <td>1</td>\n",
       "      <td>19</td>\n",
       "      <td>46</td>\n",
       "      <td>6</td>\n",
       "      <td>16</td>\n",
       "      <td>2</td>\n",
       "      <td>0.0</td>\n",
       "      <td>0</td>\n",
       "      <td>0.00</td>\n",
       "      <td>98</td>\n",
       "      <td>5318.10</td>\n",
       "      <td>5399</td>\n",
       "      <td>96.53</td>\n",
       "      <td>SIM</td>\n",
       "      <td>1342488.85</td>\n",
       "      <td>0</td>\n",
       "    </tr>\n",
       "  </tbody>\n",
       "</table>\n",
       "</div>"
      ],
      "text/plain": [
       "   Concurso Data Sorteio  Dezena1  Dezena2  Dezena3  Dezena4  Dezena5  \\\n",
       "0         1   1996-03-11       41        5        4       52       30   \n",
       "1         2   1996-03-18        9       39       37       49       43   \n",
       "2         3   1996-03-25       36       30       10       11       29   \n",
       "3         4   1996-04-01        6       59       42       27        1   \n",
       "4         5   1996-04-08        1       19       46        6       16   \n",
       "\n",
       "   Dezena6  Arrecadacao_Total  Ganhadores_Sena  Rateio_Sena  Ganhadores_Quina  \\\n",
       "0       33                0.0                0         0.00                17   \n",
       "1       41                0.0                1   2307162.23                65   \n",
       "2       47                0.0                2    391192.51                62   \n",
       "3        5                0.0                0         0.00                39   \n",
       "4        2                0.0                0         0.00                98   \n",
       "\n",
       "   Rateio_Quina  Ganhadores_Quadra  Rateio_Quadra Acumulado  Valor_Acumulado  \\\n",
       "0      39158.92               2016         330.21       SIM       1714650.23   \n",
       "1      14424.02               4488         208.91       NÃO             0.00   \n",
       "2      10515.93               4261         153.01       NÃO             0.00   \n",
       "3      15322.24               3311         180.48       SIM        717080.75   \n",
       "4       5318.10               5399          96.53       SIM       1342488.85   \n",
       "\n",
       "   Estimativa_Prêmio  \n",
       "0                  0  \n",
       "1                  0  \n",
       "2                  0  \n",
       "3                  0  \n",
       "4                  0  "
      ]
     },
     "execution_count": 1,
     "metadata": {},
     "output_type": "execute_result"
    }
   ],
   "source": [
    "# Importar as bibliotecas necessárias\n",
    "%matplotlib inline\n",
    "import pandas as pd\n",
    "import matplotlib.pyplot as plt\n",
    "import seaborn as sns\n",
    "plt.style.use('ggplot')\n",
    "# Atribuir o nome da planilha para a variável \"arquivo\"\n",
    "arquivo = 'basedados.xlsx'\n",
    "# Carregar a base de dados para um objeto pandas.io.excel.ExcelFile\n",
    "excel = pd.ExcelFile(arquivo)\n",
    "# Imprimir o nome das planilhas\n",
    "print(excel.sheet_names)\n",
    "# Carregar a planilha excel para um objeto dataframe\n",
    "dados = excel.parse(0)\n",
    "#Criar uma nova tebela composta apenas de colunas selecionadas\n",
    "cols = ['Data Sorteio', 'Ganhadores_Sena', 'Ganhadores_Quina', 'Ganhadores_Quadra','Valor_Acumulado']\n",
    "norm_dados = dados[cols]\n",
    "# Imprimir as cinco primeiras linhas do dataframe\n",
    "dados.head()"
   ]
  },
  {
   "cell_type": "markdown",
   "metadata": {},
   "source": [
    "<h1>1 - Estatísticas</h1>\n",
    "<br>\n",
    "A tabela a seguir traz informações importantes sobre os dados que podem ser usadas para gerar estatísticas."
   ]
  },
  {
   "cell_type": "code",
   "execution_count": 2,
   "metadata": {
    "scrolled": false
   },
   "outputs": [
    {
     "data": {
      "text/html": [
       "<div>\n",
       "<style scoped>\n",
       "    .dataframe tbody tr th:only-of-type {\n",
       "        vertical-align: middle;\n",
       "    }\n",
       "\n",
       "    .dataframe tbody tr th {\n",
       "        vertical-align: top;\n",
       "    }\n",
       "\n",
       "    .dataframe thead th {\n",
       "        text-align: right;\n",
       "    }\n",
       "</style>\n",
       "<table border=\"1\" class=\"dataframe\">\n",
       "  <thead>\n",
       "    <tr style=\"text-align: right;\">\n",
       "      <th></th>\n",
       "      <th>Concurso</th>\n",
       "      <th>Dezena1</th>\n",
       "      <th>Dezena2</th>\n",
       "      <th>Dezena3</th>\n",
       "      <th>Dezena4</th>\n",
       "      <th>Dezena5</th>\n",
       "      <th>Dezena6</th>\n",
       "      <th>Arrecadacao_Total</th>\n",
       "      <th>Ganhadores_Sena</th>\n",
       "      <th>Rateio_Sena</th>\n",
       "      <th>Ganhadores_Quina</th>\n",
       "      <th>Rateio_Quina</th>\n",
       "      <th>Ganhadores_Quadra</th>\n",
       "      <th>Rateio_Quadra</th>\n",
       "      <th>Valor_Acumulado</th>\n",
       "      <th>Estimativa_Prêmio</th>\n",
       "    </tr>\n",
       "  </thead>\n",
       "  <tbody>\n",
       "    <tr>\n",
       "      <th>count</th>\n",
       "      <td>2025.000000</td>\n",
       "      <td>2025.000000</td>\n",
       "      <td>2025.000000</td>\n",
       "      <td>2025.000000</td>\n",
       "      <td>2025.000000</td>\n",
       "      <td>2025.000000</td>\n",
       "      <td>2025.000000</td>\n",
       "      <td>2.025000e+03</td>\n",
       "      <td>2025.000000</td>\n",
       "      <td>2.025000e+03</td>\n",
       "      <td>2025.000000</td>\n",
       "      <td>2025.000000</td>\n",
       "      <td>2025.000000</td>\n",
       "      <td>2025.000000</td>\n",
       "      <td>2.025000e+03</td>\n",
       "      <td>2.025000e+03</td>\n",
       "    </tr>\n",
       "    <tr>\n",
       "      <th>mean</th>\n",
       "      <td>1013.000000</td>\n",
       "      <td>30.589136</td>\n",
       "      <td>29.991605</td>\n",
       "      <td>30.978272</td>\n",
       "      <td>30.796543</td>\n",
       "      <td>30.498272</td>\n",
       "      <td>30.125926</td>\n",
       "      <td>2.267337e+07</td>\n",
       "      <td>0.341235</td>\n",
       "      <td>4.322238e+06</td>\n",
       "      <td>112.975309</td>\n",
       "      <td>22344.705852</td>\n",
       "      <td>7281.367901</td>\n",
       "      <td>371.519802</td>\n",
       "      <td>1.233457e+07</td>\n",
       "      <td>1.212356e+07</td>\n",
       "    </tr>\n",
       "    <tr>\n",
       "      <th>std</th>\n",
       "      <td>584.711467</td>\n",
       "      <td>17.337389</td>\n",
       "      <td>17.413463</td>\n",
       "      <td>17.452236</td>\n",
       "      <td>17.313406</td>\n",
       "      <td>17.263596</td>\n",
       "      <td>17.240179</td>\n",
       "      <td>5.225959e+07</td>\n",
       "      <td>0.860648</td>\n",
       "      <td>1.269717e+07</td>\n",
       "      <td>182.437301</td>\n",
       "      <td>13632.521539</td>\n",
       "      <td>9017.019606</td>\n",
       "      <td>227.521554</td>\n",
       "      <td>1.750719e+07</td>\n",
       "      <td>2.393508e+07</td>\n",
       "    </tr>\n",
       "    <tr>\n",
       "      <th>min</th>\n",
       "      <td>1.000000</td>\n",
       "      <td>1.000000</td>\n",
       "      <td>1.000000</td>\n",
       "      <td>1.000000</td>\n",
       "      <td>1.000000</td>\n",
       "      <td>1.000000</td>\n",
       "      <td>1.000000</td>\n",
       "      <td>0.000000e+00</td>\n",
       "      <td>0.000000</td>\n",
       "      <td>0.000000e+00</td>\n",
       "      <td>6.000000</td>\n",
       "      <td>122.530000</td>\n",
       "      <td>683.000000</td>\n",
       "      <td>69.550000</td>\n",
       "      <td>0.000000e+00</td>\n",
       "      <td>0.000000e+00</td>\n",
       "    </tr>\n",
       "    <tr>\n",
       "      <th>25%</th>\n",
       "      <td>507.000000</td>\n",
       "      <td>15.000000</td>\n",
       "      <td>15.000000</td>\n",
       "      <td>16.000000</td>\n",
       "      <td>16.000000</td>\n",
       "      <td>15.000000</td>\n",
       "      <td>15.000000</td>\n",
       "      <td>0.000000e+00</td>\n",
       "      <td>0.000000</td>\n",
       "      <td>0.000000e+00</td>\n",
       "      <td>49.000000</td>\n",
       "      <td>12855.550000</td>\n",
       "      <td>3840.000000</td>\n",
       "      <td>201.080000</td>\n",
       "      <td>7.170808e+05</td>\n",
       "      <td>0.000000e+00</td>\n",
       "    </tr>\n",
       "    <tr>\n",
       "      <th>50%</th>\n",
       "      <td>1013.000000</td>\n",
       "      <td>31.000000</td>\n",
       "      <td>30.000000</td>\n",
       "      <td>31.000000</td>\n",
       "      <td>31.000000</td>\n",
       "      <td>31.000000</td>\n",
       "      <td>30.000000</td>\n",
       "      <td>0.000000e+00</td>\n",
       "      <td>0.000000</td>\n",
       "      <td>0.000000e+00</td>\n",
       "      <td>78.000000</td>\n",
       "      <td>18858.990000</td>\n",
       "      <td>5525.000000</td>\n",
       "      <td>297.350000</td>\n",
       "      <td>5.933419e+06</td>\n",
       "      <td>2.500000e+06</td>\n",
       "    </tr>\n",
       "    <tr>\n",
       "      <th>75%</th>\n",
       "      <td>1519.000000</td>\n",
       "      <td>46.000000</td>\n",
       "      <td>45.000000</td>\n",
       "      <td>46.000000</td>\n",
       "      <td>45.000000</td>\n",
       "      <td>45.000000</td>\n",
       "      <td>45.000000</td>\n",
       "      <td>3.523152e+07</td>\n",
       "      <td>0.000000</td>\n",
       "      <td>0.000000e+00</td>\n",
       "      <td>123.000000</td>\n",
       "      <td>27866.190000</td>\n",
       "      <td>8049.000000</td>\n",
       "      <td>482.400000</td>\n",
       "      <td>1.842785e+07</td>\n",
       "      <td>1.700000e+07</td>\n",
       "    </tr>\n",
       "    <tr>\n",
       "      <th>max</th>\n",
       "      <td>2025.000000</td>\n",
       "      <td>60.000000</td>\n",
       "      <td>60.000000</td>\n",
       "      <td>60.000000</td>\n",
       "      <td>60.000000</td>\n",
       "      <td>60.000000</td>\n",
       "      <td>60.000000</td>\n",
       "      <td>8.909474e+08</td>\n",
       "      <td>17.000000</td>\n",
       "      <td>2.053298e+08</td>\n",
       "      <td>4862.000000</td>\n",
       "      <td>122896.600000</td>\n",
       "      <td>173428.000000</td>\n",
       "      <td>1362.930000</td>\n",
       "      <td>1.877692e+08</td>\n",
       "      <td>2.800000e+08</td>\n",
       "    </tr>\n",
       "  </tbody>\n",
       "</table>\n",
       "</div>"
      ],
      "text/plain": [
       "          Concurso      Dezena1      Dezena2      Dezena3      Dezena4  \\\n",
       "count  2025.000000  2025.000000  2025.000000  2025.000000  2025.000000   \n",
       "mean   1013.000000    30.589136    29.991605    30.978272    30.796543   \n",
       "std     584.711467    17.337389    17.413463    17.452236    17.313406   \n",
       "min       1.000000     1.000000     1.000000     1.000000     1.000000   \n",
       "25%     507.000000    15.000000    15.000000    16.000000    16.000000   \n",
       "50%    1013.000000    31.000000    30.000000    31.000000    31.000000   \n",
       "75%    1519.000000    46.000000    45.000000    46.000000    45.000000   \n",
       "max    2025.000000    60.000000    60.000000    60.000000    60.000000   \n",
       "\n",
       "           Dezena5      Dezena6  Arrecadacao_Total  Ganhadores_Sena  \\\n",
       "count  2025.000000  2025.000000       2.025000e+03      2025.000000   \n",
       "mean     30.498272    30.125926       2.267337e+07         0.341235   \n",
       "std      17.263596    17.240179       5.225959e+07         0.860648   \n",
       "min       1.000000     1.000000       0.000000e+00         0.000000   \n",
       "25%      15.000000    15.000000       0.000000e+00         0.000000   \n",
       "50%      31.000000    30.000000       0.000000e+00         0.000000   \n",
       "75%      45.000000    45.000000       3.523152e+07         0.000000   \n",
       "max      60.000000    60.000000       8.909474e+08        17.000000   \n",
       "\n",
       "        Rateio_Sena  Ganhadores_Quina   Rateio_Quina  Ganhadores_Quadra  \\\n",
       "count  2.025000e+03       2025.000000    2025.000000        2025.000000   \n",
       "mean   4.322238e+06        112.975309   22344.705852        7281.367901   \n",
       "std    1.269717e+07        182.437301   13632.521539        9017.019606   \n",
       "min    0.000000e+00          6.000000     122.530000         683.000000   \n",
       "25%    0.000000e+00         49.000000   12855.550000        3840.000000   \n",
       "50%    0.000000e+00         78.000000   18858.990000        5525.000000   \n",
       "75%    0.000000e+00        123.000000   27866.190000        8049.000000   \n",
       "max    2.053298e+08       4862.000000  122896.600000      173428.000000   \n",
       "\n",
       "       Rateio_Quadra  Valor_Acumulado  Estimativa_Prêmio  \n",
       "count    2025.000000     2.025000e+03       2.025000e+03  \n",
       "mean      371.519802     1.233457e+07       1.212356e+07  \n",
       "std       227.521554     1.750719e+07       2.393508e+07  \n",
       "min        69.550000     0.000000e+00       0.000000e+00  \n",
       "25%       201.080000     7.170808e+05       0.000000e+00  \n",
       "50%       297.350000     5.933419e+06       2.500000e+06  \n",
       "75%       482.400000     1.842785e+07       1.700000e+07  \n",
       "max      1362.930000     1.877692e+08       2.800000e+08  "
      ]
     },
     "execution_count": 2,
     "metadata": {},
     "output_type": "execute_result"
    }
   ],
   "source": [
    "#Resumo das variáveis numericas\n",
    "dados.describe()"
   ]
  },
  {
   "cell_type": "markdown",
   "metadata": {},
   "source": [
    "<h1>2- Sobre a Mega-Sena</h1>\n",
    "<br>A Mega-Sena paga milhões para o acertador dos 6 números sorteados. Ainda é possível ganhar prêmios ao acertar 4 ou 5 números dentre os 60 disponíveis no volante de apostas. Para realizar o sonho de ser o próximo milionário, você deve marcar de 6 a 15 números do volante. Os sorteios da Mega-Sena são realizados duas vezes por semana, às quartas e aos sábados."
   ]
  },
  {
   "cell_type": "markdown",
   "metadata": {},
   "source": [
    "<br>O prêmio bruto corresponde a 45,3% da arrecadação, já computado o adicional destinado ao Ministério do Esporte. Dessa porcentagem:\n",
    "    35% são distribuídos entre os acertadores dos 6 números sorteados (Sena);\n",
    "    19% entre os acertadores de 5 números (Quina);\n",
    "    19% entre os acertadores de 4 números (Quadra);\n",
    "    22% ficam acumulados e são distribuídos aos acertadores dos 6 números nos concursos de final 0 ou 5.\n",
    "    5% ficam acumulados para a primeira faixa - sena - do último concurso do ano de final 0 ou 5 (Mega da Virada).\n"
   ]
  },
  {
   "cell_type": "code",
   "execution_count": 3,
   "metadata": {},
   "outputs": [
    {
     "data": {
      "text/html": [
       "<div>\n",
       "<style scoped>\n",
       "    .dataframe tbody tr th:only-of-type {\n",
       "        vertical-align: middle;\n",
       "    }\n",
       "\n",
       "    .dataframe tbody tr th {\n",
       "        vertical-align: top;\n",
       "    }\n",
       "\n",
       "    .dataframe thead th {\n",
       "        text-align: right;\n",
       "    }\n",
       "</style>\n",
       "<table border=\"1\" class=\"dataframe\">\n",
       "  <thead>\n",
       "    <tr style=\"text-align: right;\">\n",
       "      <th></th>\n",
       "      <th>Data Sorteio</th>\n",
       "      <th>Ganhadores_Sena</th>\n",
       "      <th>Ganhadores_Quina</th>\n",
       "      <th>Ganhadores_Quadra</th>\n",
       "      <th>Valor_Acumulado</th>\n",
       "    </tr>\n",
       "  </thead>\n",
       "  <tbody>\n",
       "    <tr>\n",
       "      <th>0</th>\n",
       "      <td>1996-03-11</td>\n",
       "      <td>0</td>\n",
       "      <td>17</td>\n",
       "      <td>2016</td>\n",
       "      <td>1714650.23</td>\n",
       "    </tr>\n",
       "    <tr>\n",
       "      <th>1</th>\n",
       "      <td>1996-03-18</td>\n",
       "      <td>1</td>\n",
       "      <td>65</td>\n",
       "      <td>4488</td>\n",
       "      <td>0.00</td>\n",
       "    </tr>\n",
       "    <tr>\n",
       "      <th>2</th>\n",
       "      <td>1996-03-25</td>\n",
       "      <td>2</td>\n",
       "      <td>62</td>\n",
       "      <td>4261</td>\n",
       "      <td>0.00</td>\n",
       "    </tr>\n",
       "    <tr>\n",
       "      <th>3</th>\n",
       "      <td>1996-04-01</td>\n",
       "      <td>0</td>\n",
       "      <td>39</td>\n",
       "      <td>3311</td>\n",
       "      <td>717080.75</td>\n",
       "    </tr>\n",
       "    <tr>\n",
       "      <th>4</th>\n",
       "      <td>1996-04-08</td>\n",
       "      <td>0</td>\n",
       "      <td>98</td>\n",
       "      <td>5399</td>\n",
       "      <td>1342488.85</td>\n",
       "    </tr>\n",
       "  </tbody>\n",
       "</table>\n",
       "</div>"
      ],
      "text/plain": [
       "  Data Sorteio  Ganhadores_Sena  Ganhadores_Quina  Ganhadores_Quadra  \\\n",
       "0   1996-03-11                0                17               2016   \n",
       "1   1996-03-18                1                65               4488   \n",
       "2   1996-03-25                2                62               4261   \n",
       "3   1996-04-01                0                39               3311   \n",
       "4   1996-04-08                0                98               5399   \n",
       "\n",
       "   Valor_Acumulado  \n",
       "0       1714650.23  \n",
       "1             0.00  \n",
       "2             0.00  \n",
       "3        717080.75  \n",
       "4       1342488.85  "
      ]
     },
     "execution_count": 3,
     "metadata": {},
     "output_type": "execute_result"
    }
   ],
   "source": [
    "#Quantidade de Ganhadores por data\n",
    "dados['Data Sorteio'] = pd.to_datetime(dados['Data Sorteio'])\n",
    "norm_dados.head()"
   ]
  },
  {
   "cell_type": "markdown",
   "metadata": {},
   "source": [
    "<h1>3 - Acumulação</h1>\n",
    "<br>Não havendo acertador em qualquer faixa, o valor acumula para o concurso seguinte, na respectiva faixa de premiação.Os prêmios prescrevem 90 dias após a data do sorteio. Após esse prazo, os valores são repassados ao tesouro nacional para aplicação no FIES - Fundo de Financiamento ao Estudante do Ensino Superior.\n"
   ]
  },
  {
   "cell_type": "code",
   "execution_count": 47,
   "metadata": {
    "scrolled": true
   },
   "outputs": [
    {
     "data": {
      "text/html": [
       "<div>\n",
       "<style scoped>\n",
       "    .dataframe tbody tr th:only-of-type {\n",
       "        vertical-align: middle;\n",
       "    }\n",
       "\n",
       "    .dataframe tbody tr th {\n",
       "        vertical-align: top;\n",
       "    }\n",
       "\n",
       "    .dataframe thead th {\n",
       "        text-align: right;\n",
       "    }\n",
       "</style>\n",
       "<table border=\"1\" class=\"dataframe\">\n",
       "  <thead>\n",
       "    <tr style=\"text-align: right;\">\n",
       "      <th></th>\n",
       "      <th>Valor_Acumulado</th>\n",
       "    </tr>\n",
       "    <tr>\n",
       "      <th>Acumulado</th>\n",
       "      <th></th>\n",
       "    </tr>\n",
       "  </thead>\n",
       "  <tbody>\n",
       "    <tr>\n",
       "      <th>NÃO</th>\n",
       "      <td>477</td>\n",
       "    </tr>\n",
       "    <tr>\n",
       "      <th>SIM</th>\n",
       "      <td>1548</td>\n",
       "    </tr>\n",
       "  </tbody>\n",
       "</table>\n",
       "</div>"
      ],
      "text/plain": [
       "           Valor_Acumulado\n",
       "Acumulado                 \n",
       "NÃO                    477\n",
       "SIM                   1548"
      ]
     },
     "execution_count": 47,
     "metadata": {},
     "output_type": "execute_result"
    }
   ],
   "source": [
    "#Calcular a quantidade de sorteios que acumularam e que não acumularam de acordo com a coluna Valor_Acumulado da base de dados.\n",
    "dados.pivot_table(index=[\"Acumulado\"], values=\"Valor_Acumulado\", aggfunc=\"count\")"
   ]
  },
  {
   "cell_type": "markdown",
   "metadata": {},
   "source": [
    "<h1>4- Gráficos</h1>"
   ]
  },
  {
   "cell_type": "code",
   "execution_count": 4,
   "metadata": {},
   "outputs": [
    {
     "data": {
      "text/plain": [
       "<matplotlib.axes._subplots.AxesSubplot at 0xb272d30>"
      ]
     },
     "execution_count": 4,
     "metadata": {},
     "output_type": "execute_result"
    },
    {
     "data": {
      "image/png": "[encoded data removed]",
      "text/plain": [
       "<matplotlib.figure.Figure at 0xb3d3c18>"
      ]
     },
     "metadata": {},
     "output_type": "display_data"
    }
   ],
   "source": [
    "#Plot do gráfico da coluna Ganhadores da Sena\n",
    "dados['Ganhadores_Sena'].plot(color='blue')"
   ]
  },
  {
   "cell_type": "markdown",
   "metadata": {},
   "source": [
    "<br>O gráfico acima mostra apenas a coluna Ganhadores da Sena no eixo vertical e no eixo horizontal a quantidade de linhas do dataframe.A partir desse gráfico já é possivel ter alguns insights interessantes, podemos ver que o maior número de pessoas a dividir o prêmio foi em torno de 17."
   ]
  },
  {
   "cell_type": "code",
   "execution_count": 71,
   "metadata": {},
   "outputs": [
    {
     "data": {
      "text/plain": [
       "<matplotlib.axes._subplots.AxesSubplot at 0xd47c2b0>"
      ]
     },
     "execution_count": 71,
     "metadata": {},
     "output_type": "execute_result"
    },
    {
     "data": {
      "image/png": "[encoded data removed]",
      "text/plain": [
       "<matplotlib.figure.Figure at 0xd414518>"
      ]
     },
     "metadata": {},
     "output_type": "display_data"
    }
   ],
   "source": [
    "#Plot do gráfico da quantidade de Ganhadores da Sena pelo valor reteado\n",
    "dados.plot(x='Ganhadores_Sena',y='Rateio_Sena',kind='scatter',color='y')"
   ]
  },
  {
   "cell_type": "markdown",
   "metadata": {},
   "source": [
    "<br> O gráfico acima mostra o valor de rateio da Sena na base 10 elevado a 8 no eixo vertical pela quantidade de Ganhadores da Sena no eixo horizontal, esse gráfico é do tipo scatter.\n"
   ]
  },
  {
   "cell_type": "code",
   "execution_count": 95,
   "metadata": {
    "scrolled": false
   },
   "outputs": [
    {
     "data": {
      "image/png": "[encoded data removed]",
      "text/plain": [
       "<matplotlib.figure.Figure at 0xf45bc88>"
      ]
     },
     "metadata": {},
     "output_type": "display_data"
    }
   ],
   "source": [
    "#Plot do gráfico de despersão entre os Ganhadores da Sena, Quina e Quadra.\n",
    "scatter_plot = plt.scatter(norm_dados['Ganhadores_Quina'],norm_dados['Ganhadores_Quadra'], alpha=0.5, \n",
    "                           c=norm_dados['Ganhadores_Sena'])\n",
    "plt.show()"
   ]
  },
  {
   "cell_type": "markdown",
   "metadata": {},
   "source": [
    "<br>Acima vemos um gráfico de dispersão, ou scatter plot. Ele é bastante utilizado quando queremos ver se existe alguma relação entre duas ou mais variáveis. Vamos verificar, por exemplo, se existe entre os Ganhadores da quadra e da quina alguma relação com Ganhadores da Sena."
   ]
  },
  {
   "cell_type": "code",
   "execution_count": null,
   "metadata": {},
   "outputs": [],
   "source": []
  }
 ],
 "metadata": {
  "kernelspec": {
   "display_name": "Python 3",
   "language": "python",
   "name": "python3"
  },
  "language_info": {
   "codemirror_mode": {
    "name": "ipython",
    "version": 3
   },
   "file_extension": ".py",
   "mimetype": "text/x-python",
   "name": "python",
   "nbconvert_exporter": "python",
   "pygments_lexer": "ipython3",
   "version": "3.6.4"
  }
 },
 "nbformat": 4,
 "nbformat_minor": 2
}
